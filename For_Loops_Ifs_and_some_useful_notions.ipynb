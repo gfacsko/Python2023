{
 "cells": [
  {
   "cell_type": "code",
   "execution_count": 1,
   "id": "93fdd29a",
   "metadata": {},
   "outputs": [],
   "source": [
    "import numpy"
   ]
  },
  {
   "cell_type": "code",
   "execution_count": 4,
   "id": "153db21b",
   "metadata": {
    "scrolled": false
   },
   "outputs": [
    {
     "name": "stdout",
     "output_type": "stream",
     "text": [
      "%pylab is deprecated, use %matplotlib inline and import the required libraries.\n",
      "Populating the interactive namespace from numpy and matplotlib\n"
     ]
    }
   ],
   "source": [
    "%pylab inline"
   ]
  },
  {
   "cell_type": "markdown",
   "id": "44d0bcdc",
   "metadata": {},
   "source": [
    "# Python for loops"
   ]
  },
  {
   "cell_type": "markdown",
   "id": "71cbc520",
   "metadata": {},
   "source": [
    "### For loops are very similar to other languages. The correct syntax in python is:\n",
    "\n",
    "for looping variable in sequence: <br>\n",
    "&nbsp;&nbsp;&nbsp;&nbsp; code block"
   ]
  },
  {
   "cell_type": "markdown",
   "id": "4c719b2d",
   "metadata": {},
   "source": [
    "### Before loops: range() function - generates a sequence"
   ]
  },
  {
   "cell_type": "code",
   "execution_count": 5,
   "id": "fd647dc0",
   "metadata": {},
   "outputs": [
    {
     "name": "stdout",
     "output_type": "stream",
     "text": [
      "1\n",
      "2\n",
      "3\n",
      "4\n",
      "5\n"
     ]
    }
   ],
   "source": [
    "for i in range(1, 6):\n",
    "    print(i)"
   ]
  },
  {
   "cell_type": "markdown",
   "id": "23642384",
   "metadata": {},
   "source": [
    "### May be strange - you don't have to initialize the variable i"
   ]
  },
  {
   "cell_type": "markdown",
   "id": "55a8e76d",
   "metadata": {},
   "source": [
    "### As strings are just char arrays, you can iterate over them!!"
   ]
  },
  {
   "cell_type": "code",
   "execution_count": 7,
   "id": "58ffde51",
   "metadata": {
    "scrolled": true
   },
   "outputs": [
    {
     "name": "stdout",
     "output_type": "stream",
     "text": [
      "b\n",
      "a\n",
      "n\n",
      "a\n",
      "n\n",
      "a\n"
     ]
    }
   ],
   "source": [
    "s = \"banana\"\n",
    "for c in s:\n",
    "    print(c)"
   ]
  },
  {
   "cell_type": "markdown",
   "id": "0eb455ca",
   "metadata": {},
   "source": [
    "### The len() function gives you the length of an array"
   ]
  },
  {
   "cell_type": "code",
   "execution_count": 6,
   "id": "91b7a11e",
   "metadata": {},
   "outputs": [
    {
     "name": "stdout",
     "output_type": "stream",
     "text": [
      "b\n",
      "a\n",
      "n\n",
      "a\n",
      "n\n",
      "a\n"
     ]
    }
   ],
   "source": [
    "s = \"banana\"\n",
    "for i in range(len(s)):\n",
    "    print(s[i])"
   ]
  },
  {
   "cell_type": "markdown",
   "id": "ab564631",
   "metadata": {},
   "source": [
    "### Example add all integers of an array"
   ]
  },
  {
   "cell_type": "markdown",
   "id": "3b6037c8",
   "metadata": {},
   "source": [
    "## Let's note the difference between two methods! The variable, i takes the value of the current element of the array!!"
   ]
  },
  {
   "cell_type": "code",
   "execution_count": 21,
   "id": "c31c7f8f",
   "metadata": {},
   "outputs": [
    {
     "name": "stdout",
     "output_type": "stream",
     "text": [
      "2\n",
      "5\n",
      "6\n",
      "9\n",
      "12\n"
     ]
    }
   ],
   "source": [
    "#The not-so-python way\n",
    "s = 0\n",
    "a = [2, 3, 1, 3, 3]\n",
    "for i in range(0,len(a)):\n",
    "    s += a[i] # note this is equivalent to s = s + i\n",
    "    print(s)"
   ]
  },
  {
   "cell_type": "code",
   "execution_count": 15,
   "id": "7debc2b9",
   "metadata": {},
   "outputs": [
    {
     "name": "stdout",
     "output_type": "stream",
     "text": [
      "2\n",
      "5\n",
      "6\n",
      "9\n",
      "12\n"
     ]
    }
   ],
   "source": [
    "#The python way\n",
    "s = 0\n",
    "a = [2, 3, 1, 3, 3]\n",
    "for i in a:\n",
    "    s += i # note this is equivalent to s = s + i\n",
    "    print(s)"
   ]
  },
  {
   "cell_type": "markdown",
   "id": "583a0182",
   "metadata": {},
   "source": [
    "### numpy helps us with some calculations"
   ]
  },
  {
   "cell_type": "code",
   "execution_count": 59,
   "id": "816911f2",
   "metadata": {},
   "outputs": [
    {
     "data": {
      "text/plain": [
       "5.0"
      ]
     },
     "execution_count": 59,
     "metadata": {},
     "output_type": "execute_result"
    }
   ],
   "source": [
    "# do not waste time on for cycles\n",
    "l = [2,4,6,8]\n",
    "np.mean(l)"
   ]
  },
  {
   "cell_type": "markdown",
   "id": "3df192d0",
   "metadata": {},
   "source": [
    "# Python If function"
   ]
  },
  {
   "cell_type": "markdown",
   "id": "239cf4a6",
   "metadata": {},
   "source": [
    "## Syntax:\n",
    "\n",
    "if condition:<br>\n",
    "&nbsp;&nbsp;&nbsp;&nbsp; statement\n",
    "\n",
    "### elif is python's way of saying, if that condition was not true, then try this one\n",
    "### else is a saysing that if that condition was not true, then do this (it does not require a condition, will run everytime when the initial condition was not true)"
   ]
  },
  {
   "cell_type": "code",
   "execution_count": 11,
   "id": "82abe640",
   "metadata": {},
   "outputs": [
    {
     "name": "stdout",
     "output_type": "stream",
     "text": [
      "b is greater than a\n"
     ]
    }
   ],
   "source": [
    "a = 33\n",
    "b = 133\n",
    "if b > a:\n",
    "    print(\"b is greater than a\")\n",
    "elif a == b:\n",
    "    print(\"a and b are equal\")\n",
    "elif b < a:\n",
    "    print(\"a is greater than b\")"
   ]
  },
  {
   "cell_type": "code",
   "execution_count": 14,
   "id": "ba23a5e2",
   "metadata": {},
   "outputs": [
    {
     "name": "stdout",
     "output_type": "stream",
     "text": [
      "a is greater than b\n"
     ]
    }
   ],
   "source": [
    "a = 133\n",
    "b = 33\n",
    "if b > a:\n",
    "    print(\"b is greater than a\")\n",
    "elif a == b:\n",
    "    print(\"a and b are equal\")\n",
    "else:\n",
    "    print(\"a is greater than b\")"
   ]
  },
  {
   "cell_type": "markdown",
   "id": "8690e18f",
   "metadata": {},
   "source": [
    "### Before moving on - appending to a list"
   ]
  },
  {
   "cell_type": "markdown",
   "id": "eff48530",
   "metadata": {},
   "source": [
    "we can add an element to a list using the .append function on that list"
   ]
  },
  {
   "cell_type": "code",
   "execution_count": 17,
   "id": "ed5de8f8",
   "metadata": {},
   "outputs": [
    {
     "data": {
      "text/plain": [
       "[]"
      ]
     },
     "execution_count": 17,
     "metadata": {},
     "output_type": "execute_result"
    }
   ],
   "source": [
    "numbers = []\n",
    "numbers"
   ]
  },
  {
   "cell_type": "code",
   "execution_count": 18,
   "id": "ebc2923a",
   "metadata": {},
   "outputs": [
    {
     "name": "stdout",
     "output_type": "stream",
     "text": [
      "[1, 2]\n"
     ]
    }
   ],
   "source": [
    "#initialize an empty list\n",
    "numbers = []\n",
    "\n",
    "#append two elements\n",
    "numbers.append(1)\n",
    "numbers.append(2)\n",
    "print(numbers)"
   ]
  },
  {
   "cell_type": "markdown",
   "id": "77b88e6b",
   "metadata": {},
   "source": [
    "### we can also use insert, which can be used to insert to any position of a list"
   ]
  },
  {
   "cell_type": "code",
   "execution_count": 19,
   "id": "acd37803",
   "metadata": {},
   "outputs": [
    {
     "data": {
      "text/plain": [
       "[0, 1, 2]"
      ]
     },
     "execution_count": 19,
     "metadata": {},
     "output_type": "execute_result"
    }
   ],
   "source": [
    "numbers.insert(0, 0)\n",
    "numbers"
   ]
  },
  {
   "cell_type": "code",
   "execution_count": 20,
   "id": "c52718b6",
   "metadata": {},
   "outputs": [],
   "source": [
    "n = list(range(1,51)) #generates all numbers between 1 and 50\n",
    "\n",
    "#not so-python-way\n",
    "num1 = []\n",
    "for i in n:\n",
    "    if i%5 == 0:\n",
    "        num1.append(i)\n",
    "        \n",
    "#the more python way - list comprehension\n",
    "num2 = [i for i in n if i%5 == 0]"
   ]
  },
  {
   "cell_type": "code",
   "execution_count": 21,
   "id": "bd2d8de0",
   "metadata": {},
   "outputs": [
    {
     "data": {
      "text/plain": [
       "[5, 10, 15, 20, 25, 30, 35, 40, 45, 50]"
      ]
     },
     "execution_count": 21,
     "metadata": {},
     "output_type": "execute_result"
    }
   ],
   "source": [
    "num1"
   ]
  },
  {
   "cell_type": "code",
   "execution_count": 22,
   "id": "138a5af1",
   "metadata": {},
   "outputs": [
    {
     "name": "stdout",
     "output_type": "stream",
     "text": [
      "True\n"
     ]
    }
   ],
   "source": [
    "print(num1 == num2)"
   ]
  },
  {
   "cell_type": "markdown",
   "id": "62d44a20",
   "metadata": {},
   "source": [
    "# Let's do a task together!\n",
    "# Write a program that codes and decodes messages in ASCII!"
   ]
  },
  {
   "cell_type": "code",
   "execution_count": 23,
   "id": "2977c458",
   "metadata": {},
   "outputs": [
    {
     "name": "stdout",
     "output_type": "stream",
     "text": [
      "[72, 101, 108, 108, 111, 32, 87, 111, 114, 108, 100]\n",
      "['H', 'e', 'l', 'l', 'o', ' ', 'W', 'o', 'r', 'l', 'd']\n",
      "Hello World\n"
     ]
    }
   ],
   "source": [
    "message = \"Hello World\"\n",
    "\n",
    "encoded = [ord(i) for i in message]\n",
    "decoded = [chr(i) for i in encoded]\n",
    "\n",
    "print(encoded)\n",
    "print(decoded)\n",
    "print(''.join(decoded))"
   ]
  },
  {
   "cell_type": "code",
   "execution_count": 25,
   "id": "3cd9c6eb",
   "metadata": {},
   "outputs": [
    {
     "name": "stdout",
     "output_type": "stream",
     "text": [
      "-10\n",
      "-9\n",
      "-8\n",
      "-7\n",
      "-6\n",
      "-5\n",
      "-4\n",
      "-3\n",
      "-2\n",
      "-1\n"
     ]
    }
   ],
   "source": [
    "#reverse range\n",
    "for num in range(-10, 0, 1):\n",
    "    print(num)"
   ]
  },
  {
   "cell_type": "markdown",
   "id": "c869d74c",
   "metadata": {},
   "source": [
    "## 3D arrays"
   ]
  },
  {
   "cell_type": "code",
   "execution_count": 26,
   "id": "74215a13",
   "metadata": {},
   "outputs": [
    {
     "name": "stdout",
     "output_type": "stream",
     "text": [
      "[[1, 2, 3], [4, 5, 6], [7, 8, 9]]\n"
     ]
    }
   ],
   "source": [
    "a = [[1,2,3],[4,5,6],[7,8,9]]\n",
    "print(a)"
   ]
  },
  {
   "cell_type": "code",
   "execution_count": 31,
   "id": "ea4c7276",
   "metadata": {},
   "outputs": [
    {
     "name": "stdout",
     "output_type": "stream",
     "text": [
      "6\n"
     ]
    }
   ],
   "source": [
    "print(a[1][2])"
   ]
  },
  {
   "cell_type": "markdown",
   "id": "7eae70ac",
   "metadata": {},
   "source": [
    "### Simple python program to add two matrices"
   ]
  },
  {
   "cell_type": "code",
   "execution_count": 32,
   "id": "108a9e18",
   "metadata": {},
   "outputs": [
    {
     "name": "stdout",
     "output_type": "stream",
     "text": [
      "[10, 10, 10]\n",
      "[10, 10, 10]\n",
      "[10, 10, 10]\n"
     ]
    }
   ],
   "source": [
    "X = [[1,2,3],\n",
    "    [4 ,5,6],\n",
    "    [7 ,8,9]]\n",
    " \n",
    "Y = [[9,8,7],\n",
    "    [6,5,4],\n",
    "    [3,2,1]]\n",
    " \n",
    " \n",
    "result = [[0,0,0],\n",
    "        [0,0,0],\n",
    "        [0,0,0]]\n",
    " \n",
    "# iterate through rows\n",
    "for i in range(len(X)):  \n",
    "# iterate through columns\n",
    "    for j in range(len(X[0])):\n",
    "        result[i][j] = X[i][j] + Y[i][j]\n",
    " \n",
    "for r in result:\n",
    "    print(r)"
   ]
  },
  {
   "cell_type": "markdown",
   "id": "61d78e25",
   "metadata": {},
   "source": [
    "# This part only if you're  confident!!!!"
   ]
  },
  {
   "cell_type": "code",
   "execution_count": 35,
   "id": "685c0e7a",
   "metadata": {},
   "outputs": [
    {
     "name": "stdout",
     "output_type": "stream",
     "text": [
      "Element is present at index 8\n"
     ]
    }
   ],
   "source": [
    "def binary_search(arr, low, high, x):\n",
    " \n",
    "    # Check base case\n",
    "    if high >= low:\n",
    " \n",
    "        mid = (high + low) // 2\n",
    " \n",
    "        # If element is present at the middle itself\n",
    "        if arr[mid] == x:\n",
    "            return mid\n",
    " \n",
    "        # If element is smaller than mid, then it can only\n",
    "        # be present in left subarray\n",
    "        elif arr[mid] > x:\n",
    "            return binary_search(arr, low, mid - 1, x)\n",
    " \n",
    "        # Else the element can only be present in right subarray\n",
    "        else:\n",
    "            return binary_search(arr, mid + 1, high, x)\n",
    " \n",
    "    else:\n",
    "        # Element is not present in the array\n",
    "        return -1\n",
    " \n",
    "# Test array\n",
    "arr = [1, 2, 3, 4, 5, 6, 7, 8, 9, 10 ]\n",
    "x = 9\n",
    " \n",
    "# Function call\n",
    "result = binary_search(arr, 0, len(arr)-1, x)\n",
    " \n",
    "if result != -1:\n",
    "    print(\"Element is present at index\", str(result))\n",
    "else:\n",
    "    print(\"Element is not present in array\")"
   ]
  },
  {
   "cell_type": "code",
   "execution_count": null,
   "id": "0fbc6406",
   "metadata": {},
   "outputs": [],
   "source": []
  }
 ],
 "metadata": {
  "kernelspec": {
   "display_name": "Python 3 (ipykernel)",
   "language": "python",
   "name": "python3"
  },
  "language_info": {
   "codemirror_mode": {
    "name": "ipython",
    "version": 3
   },
   "file_extension": ".py",
   "mimetype": "text/x-python",
   "name": "python",
   "nbconvert_exporter": "python",
   "pygments_lexer": "ipython3",
   "version": "3.11.4"
  }
 },
 "nbformat": 4,
 "nbformat_minor": 5
}
